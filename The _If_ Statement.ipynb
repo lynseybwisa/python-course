{
  "metadata": {
    "kernelspec": {
      "name": "python",
      "display_name": "Python (Pyodide)",
      "language": "python"
    },
    "language_info": {
      "codemirror_mode": {
        "name": "python",
        "version": 3
      },
      "file_extension": ".py",
      "mimetype": "text/x-python",
      "name": "python",
      "nbconvert_exporter": "python",
      "pygments_lexer": "ipython3",
      "version": "3.8"
    }
  },
  "nbformat_minor": 4,
  "nbformat": 4,
  "cells": [
    {
      "cell_type": "code",
      "source": "#--------- -2 ------ -1 ------ 0 ------ 1 -------- 2",
      "metadata": {
        "trusted": true
      },
      "outputs": [],
      "execution_count": 1
    },
    {
      "cell_type": "code",
      "source": "import numpy as np\nfrom numpy.random import randn",
      "metadata": {
        "trusted": true
      },
      "outputs": [],
      "execution_count": 1
    },
    {
      "cell_type": "code",
      "source": "randn()",
      "metadata": {
        "trusted": true
      },
      "outputs": [
        {
          "execution_count": 3,
          "output_type": "execute_result",
          "data": {
            "text/plain": "0.16655064359824773"
          },
          "metadata": {}
        }
      ],
      "execution_count": 3
    },
    {
      "cell_type": "code",
      "source": "#--------- -2 ------ -1 ------ 0 ------ 1 -------- 2\nanswer = None\nx = randn()\nif x > 1:\n    answer = \"Greater than 1\"\nprint(x)\nprint(answer)",
      "metadata": {
        "trusted": true
      },
      "outputs": [
        {
          "name": "stdout",
          "text": "1.2098216299796551\nGreater than 1\n",
          "output_type": "stream"
        }
      ],
      "execution_count": 7
    },
    {
      "cell_type": "code",
      "source": "#--------- -2 ------ -1 ------ 0 ------ 1 -------- 2\nanswer = None\nx = randn()\nif x > 1:\n    answer = \"Greater than 1\"\nelse:\n    answer = \"Less than 1\"\nprint(x)\nprint(answer)",
      "metadata": {
        "trusted": true
      },
      "outputs": [
        {
          "name": "stdout",
          "text": "-0.3498222582895856\nLess than 1\n",
          "output_type": "stream"
        }
      ],
      "execution_count": 8
    },
    {
      "cell_type": "code",
      "source": "#--------- -2 ------ -1 ------ 0 ------ 1 -------- 2\n#Nested statements\nanswer = None\nx = randn()\nif x > 1:\n    answer = \"Greater than 1\"\nelse:\n    if x >= -1:\n        answer = \"Between -1 and 1\"\n    else:\n        answer = \"Less than -1\"\nprint(x)\nprint(answer)",
      "metadata": {
        "trusted": true
      },
      "outputs": [
        {
          "name": "stdout",
          "text": "-1.4222020911571622\nLess than -1\n",
          "output_type": "stream"
        }
      ],
      "execution_count": 18
    },
    {
      "cell_type": "code",
      "source": "#--------- -2 ------ -1 ------ 0 ------ 1 -------- 2\n#Chained statements\nanswer = None\nx = randn()\nif x > 1:\n    answer = \"Greater than 1\"\nelif x >= -1:\n    answer = \"Between -1 and 1\"\nelse:\n    answer = \"Less than -1\"\nprint(x)\nprint(answer)",
      "metadata": {
        "trusted": true
      },
      "outputs": [
        {
          "name": "stdout",
          "text": "-0.2970352395696128\nBetween -1 and 1\n",
          "output_type": "stream"
        }
      ],
      "execution_count": 19
    },
    {
      "cell_type": "code",
      "source": "",
      "metadata": {
        "trusted": true
      },
      "outputs": [],
      "execution_count": null
    }
  ]
}