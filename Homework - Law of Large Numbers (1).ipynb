{
  "metadata": {
    "kernelspec": {
      "name": "python",
      "display_name": "Python (Pyodide)",
      "language": "python"
    },
    "language_info": {
      "codemirror_mode": {
        "name": "python",
        "version": 3
      },
      "file_extension": ".py",
      "mimetype": "text/x-python",
      "name": "python",
      "nbconvert_exporter": "python",
      "pygments_lexer": "ipython3",
      "version": "3.8"
    }
  },
  "nbformat_minor": 4,
  "nbformat": 4,
  "cells": [
    {
      "cell_type": "code",
      "source": "Homework:\n- Test the Law of large numbers for N randomly distributed numbers with mean = 0 and stdev = 1\n- Create a Python script that will count how many of these numbers fall between -1 and 1 and divide by total quantity of N\n- You know that E(x) = 68.2%\n- Check that Mean(Xn) -> E(X)",
      "metadata": {
        "trusted": true
      },
      "outputs": [],
      "execution_count": null
    },
    {
      "cell_type": "code",
      "source": "import numpy as np\nfrom numpy.random import randn\n\nrandn(100)",
      "metadata": {
        "trusted": true
      },
      "outputs": [
        {
          "execution_count": 8,
          "output_type": "execute_result",
          "data": {
            "text/plain": "array([-0.26590464, -1.38675147,  0.77628531, -0.39821084, -1.02738145,\n        1.24690226, -1.44634805,  0.36037659,  1.99081051,  0.50285569,\n        0.80312955,  0.32789618,  1.15204768, -0.65100128, -1.72673825,\n       -0.70878245, -1.21031052, -0.36517024, -0.98257404, -0.2334928 ,\n        0.60249047, -0.60818345, -0.76028954,  0.70467636,  1.31272281,\n       -1.12164631, -0.00599453,  0.79624715, -1.74991624,  0.85316876,\n        0.24137996,  0.23860509,  2.8907627 ,  1.50167267, -0.62251488,\n       -0.99740077,  0.8033869 , -0.70636042,  1.43362606, -0.13502602,\n       -0.23277116, -0.46486569,  0.20521908, -0.79956323,  0.02638305,\n        0.50310849,  0.01904529, -0.6902937 , -0.70063747, -1.64536975,\n       -0.82802869,  0.02708369,  0.56620099, -0.56480042,  0.73037333,\n        0.16743508, -1.32609698, -0.65913773,  1.02968522,  0.02623125,\n        0.70276048,  0.57984111, -1.80009522, -2.38365339, -0.70711552,\n        0.14362834, -0.94610046,  0.09665878, -0.20966974,  1.27144875,\n       -0.25898338,  0.70557935, -0.28246783, -1.69880674, -0.35114547,\n        0.57695955, -0.18889119, -0.1476416 ,  1.37453298, -1.06909161,\n       -0.95439428, -0.06714848, -0.32882425,  0.47876987,  1.44095314,\n        0.73358447,  0.81728026,  0.16976508,  0.99094801,  0.90498675,\n       -1.60941357,  0.20436085,  1.08085934,  0.84913682,  0.22885447,\n       -0.6813669 ,  0.12370528, -0.87911186, -0.83585741, -0.55423953])"
          },
          "metadata": {}
        }
      ],
      "execution_count": 8
    },
    {
      "cell_type": "code",
      "source": "for i in randn(100):\n    print(\"Hello\", i)",
      "metadata": {
        "trusted": true
      },
      "outputs": [
        {
          "name": "stdout",
          "text": "Hello 0.85832317585875\nHello 0.259878296307595\nHello -1.1426938266173123\nHello -1.3877948067925914\nHello 0.29620445039580895\nHello 0.677661103662713\nHello -0.21507920766968175\nHello 0.5124007188171642\nHello 0.2939866391364803\nHello -0.8728866238373683\nHello 1.5605524564691038\nHello -0.7379823586438019\nHello -1.0801194446967337\nHello 0.6158707283704993\nHello 2.2924383439861122\nHello 1.243032771097199\nHello 0.6182052459713565\nHello -2.168504719620146\nHello -0.3863299763351111\nHello -2.2680395627880885\nHello 0.298100321874548\nHello -0.3967855401535417\nHello 1.1198131832157883\nHello 0.0381668277086782\nHello -1.0529837479556794\nHello 0.47896023808469396\nHello -0.04376899395552908\nHello -0.7469264555918849\nHello 0.5902114751724767\nHello 1.3740265106293912\nHello 0.009916122007910146\nHello -1.0049870295940422\nHello 0.9235335405310977\nHello 1.0658481172692194\nHello -0.4192881666269619\nHello 0.42032206681083417\nHello -0.3967807953565187\nHello 1.0342034375851783\nHello 1.4376852261403845\nHello 1.2680039665051608\nHello 1.3545420542754338\nHello 0.23441486243450144\nHello -0.45417811048614265\nHello -0.6654173661720363\nHello 1.1205116810262048\nHello -0.03471389589036145\nHello 0.7059161814504616\nHello 0.6739695056836967\nHello 1.2302107545966972\nHello -0.933706753027535\nHello -0.40084079247285737\nHello -1.8355361068484144\nHello 0.3086269308882784\nHello 0.9733608028791134\nHello 0.03840547472371319\nHello 1.0467187912864826\nHello -1.601754234021506\nHello 0.3859668302473539\nHello -1.039247494597804\nHello 0.295230735468088\nHello 1.2236146676990503\nHello 0.36636347323720625\nHello 0.2353994394940358\nHello 1.5359772296479424\nHello -1.1255788228825816\nHello -0.37126987386504096\nHello -0.5964920238966298\nHello 1.2674595869272685\nHello 1.4750071876946262\nHello -0.29062686510650065\nHello 0.8479257724405597\nHello -0.36288459288388364\nHello -0.8798898945705814\nHello 0.7628629054530472\nHello 0.9050719987430909\nHello 1.0354673687554037\nHello -0.3332340706283947\nHello -1.0011299526270427\nHello 2.2736301487925226\nHello -0.31795402060077677\nHello -0.026939361036266707\nHello 1.8825894443924331\nHello 2.1775564431130445\nHello 0.22820631333986413\nHello 1.6607936712869793\nHello -0.5500783307851091\nHello 0.7422046948291097\nHello -1.266662413189914\nHello -0.2766796431592897\nHello -0.5916191648790107\nHello -1.1177104911903846\nHello 0.09391766650119734\nHello 0.12411902553429134\nHello -1.158567809634332\nHello 0.7559504483790044\nHello 0.43654051272197186\nHello 1.1885636805142743\nHello -0.7178179416063422\nHello 1.0284867971501925\nHello -1.1512747314466\n",
          "output_type": "stream"
        }
      ],
      "execution_count": 9
    },
    {
      "cell_type": "code",
      "source": "N = 100  #sample size\ncounter = 0  # reset counter",
      "metadata": {
        "trusted": true
      },
      "outputs": [],
      "execution_count": 16
    },
    {
      "cell_type": "code",
      "source": "for i in randn(N):  #iterate over random values\n    if(i > -1 and i < 1 ):  #check where iterated value falls\n        counter = counter + 1   #increase counter if condition is met\ncounter ",
      "metadata": {
        "trusted": true
      },
      "outputs": [
        {
          "execution_count": 17,
          "output_type": "execute_result",
          "data": {
            "text/plain": "63"
          },
          "metadata": {}
        }
      ],
      "execution_count": 17
    },
    {
      "cell_type": "code",
      "source": "for i in randn(N):  #iterate over random values\n    if(i > -1 and i < 1 ):  #check where iterated value falls\n        counter = counter + 1   #increase counter if condition is met\nanswer = counter / N   #calculate hit ratio\nprint(answer)   #print answer",
      "metadata": {
        "trusted": true
      },
      "outputs": [
        {
          "name": "stdout",
          "text": "0.63\n",
          "output_type": "stream"
        }
      ],
      "execution_count": 11
    },
    {
      "cell_type": "code",
      "source": "",
      "metadata": {
        "trusted": true
      },
      "outputs": [],
      "execution_count": null
    }
  ]
}